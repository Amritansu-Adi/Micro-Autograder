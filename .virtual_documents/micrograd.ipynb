import math
import numpy as np
import matplotlib.pyplot as plt
%matplotlib inline


def f(X):
    return 3*X**2 -4*X + 5


f(3.0)


xs = np.arange(-5, 5, 0.25)
ys = f(xs)
plt.plot(xs, ys)


class Value:
    def __init__(self, data, _children = (), _op ='', label = ''):
        self.data = data
        self.grad = 0.0
        self._prev = set(_children)
        self._op = _op
        self.label = label

    def __repr__(self):
        return f"Value data = {self.data}"

    def __add__(self, other):
        out = Value(self.data + other.data, (self, other), '+')
        return out
    def __mul__(self, other):
        out = Value(self.data * other.data, (self, other), '*')
        return out
        


from graphviz import Digraph

def trace(root):
    #build a set of all nodes and edges in a graph
    nodes, edges = set(), set()
    def build(v):
        for child in v._prev:
            edges.add((child, v))
            build(child)
    build(root)
    return nodes, edges

def draw_dot(root):
    dot = Digraph(format = 'svg',graph_attr = {'rankdir': 'LR'})  #LR = left to right

    nodes, edges = trace(root)
    for n in nodes:
        uid = str(id(n))
        #for any value in the grap, create a rectangular ('record') node for it
        dot.node(name = uid, label = "{ %s | data %.4f | grad%.4d }" % {n.label, n.data, }, shape='record')
        if n._op:
            #if this value is a result of some operation, create an op node for it
            dot.noe(name = uid + n._op, label = n._op)
            #and connect this node to it
            dot.edge(uid + n._op, uid)

    for n1, n2 in edges:
        #connect n1 to op node of n2
        dot.dge(str(id(n1)), str(id(n2)) + n2._op)

    return dot



